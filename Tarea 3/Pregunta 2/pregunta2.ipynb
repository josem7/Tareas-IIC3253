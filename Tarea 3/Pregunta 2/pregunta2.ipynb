{
 "cells": [
  {
   "cell_type": "code",
   "execution_count": 11,
   "id": "7ea2b0c7",
   "metadata": {},
   "outputs": [],
   "source": [
    "import random\n",
    "import hashlib\n",
    "import math"
   ]
  },
  {
   "cell_type": "code",
   "execution_count": 12,
   "id": "66446b58",
   "metadata": {},
   "outputs": [],
   "source": [
    " def read_grupo():\n",
    "    with open(\"grupo.txt\") as f:\n",
    "        n = \"\"\n",
    "        res = []\n",
    "        for line in f:\n",
    "            if line != \"\\n\":\n",
    "                n += line.strip().replace(\" \", \"\")\n",
    "            else:\n",
    "                res.append(int(n, 16))\n",
    "                n = \"\"\n",
    "        res.append(int(n, 16))\n",
    "        p = res[0]\n",
    "        g = res[1]\n",
    "        q = res[2]\n",
    "        return p, g, q"
   ]
  },
  {
   "cell_type": "code",
   "execution_count": 13,
   "id": "b8a7d451",
   "metadata": {},
   "outputs": [],
   "source": [
    "def read_keys(path):\n",
    "    with open(path, \"r\") as f:\n",
    "        for line in f:\n",
    "            res=int(line.strip())\n",
    "    return res"
   ]
  },
  {
   "cell_type": "code",
   "execution_count": 14,
   "id": "1b6f2ad1",
   "metadata": {},
   "outputs": [],
   "source": [
    "def exp_mod (a: int , b: int , n: int ) -> int :\n",
    "     \n",
    "    # Initialize result\n",
    "    res = 1;\n",
    "     \n",
    "    # Update x if it is more than or\n",
    "    # equal to p\n",
    "    \n",
    "    a = a % n\n",
    "    while (b > 0):\n",
    "         \n",
    "        # If y is odd, multiply\n",
    "        # x with result\n",
    "        if (b & 1):\n",
    "            res = (res * a) % n;\n",
    " \n",
    "        # y must be even now\n",
    "        b = b>>1; # y = y/2\n",
    "        a = (a * a) % n;\n",
    "     \n",
    "    return res;\n"
   ]
  },
  {
   "cell_type": "code",
   "execution_count": 15,
   "id": "3be4f6ac",
   "metadata": {},
   "outputs": [],
   "source": [
    "def generar_clave_ElGamal ():\n",
    "    p, g, q = read_grupo()\n",
    "    x = random.randint(1, q-1)\n",
    "    y = exp_mod(g, x, p)\n",
    "    with open(\"private_key.txt\", \"w\") as f:\n",
    "        f.write(str(x))\n",
    "        \n",
    "    with open(\"public_key.txt\", \"w\") as f:\n",
    "        f.write(str(y))"
   ]
  },
  {
   "cell_type": "code",
   "execution_count": 16,
   "id": "9cf0f041",
   "metadata": {},
   "outputs": [],
   "source": [
    "def md5 (m: str ) -> int :\n",
    "    b = hashlib.md5(m.encode('utf-8')).hexdigest()\n",
    "    res = int(b, 16)\n",
    "    return res"
   ]
  },
  {
   "cell_type": "code",
   "execution_count": 17,
   "id": "8ea0c9d0",
   "metadata": {},
   "outputs": [],
   "source": [
    "def firmar_Schnorr (m: str ) -> (int ,int ):\n",
    "    p, g, q = read_grupo()\n",
    "    k = random.randint(1, q-1)\n",
    "    r = exp_mod(g, k, p)\n",
    "    e = md5(str(r)+m)\n",
    "    x = read_keys(\"private_key.txt\")\n",
    "    s = (k - x*e) % (p-1)\n",
    "    return e, s"
   ]
  },
  {
   "cell_type": "code",
   "execution_count": 28,
   "id": "e0aa6906",
   "metadata": {},
   "outputs": [],
   "source": [
    "def verificar_firma_Schnorr (m: str , firma : (int ,int )) -> bool :\n",
    "    p, g, q = read_grupo()\n",
    "    e, s = firma\n",
    "    y = read_keys(\"public_key.txt\")\n",
    "    r_prima = (exp_mod(g, s, p) * exp_mod(y, e, p)) % p\n",
    "    res = md5(str(r_prima) + m) == e\n",
    "    return res"
   ]
  },
  {
   "cell_type": "code",
   "execution_count": 30,
   "id": "2b030f5a",
   "metadata": {},
   "outputs": [],
   "source": [
    "generar_clave_ElGamal()"
   ]
  },
  {
   "cell_type": "code",
   "execution_count": 32,
   "id": "8c86d414",
   "metadata": {},
   "outputs": [
    {
     "data": {
      "text/plain": [
       "True"
      ]
     },
     "execution_count": 32,
     "metadata": {},
     "output_type": "execute_result"
    }
   ],
   "source": [
    "verificar_firma_Schnorr(\"The Waystone Inn lay in silence, and it was a silence of three parts.The most obvious part was a hollow, echoing quiet, made by things that were lacking\", firmar_Schnorr(\"The Waystone Inn lay in silence, and it was a silence of three parts.The most obvious part was a hollow, echoing quiet, made by things that were lacking\"))"
   ]
  },
  {
   "cell_type": "code",
   "execution_count": null,
   "id": "c0a29257",
   "metadata": {},
   "outputs": [],
   "source": []
  }
 ],
 "metadata": {
  "kernelspec": {
   "display_name": "Python 3",
   "language": "python",
   "name": "python3"
  },
  "language_info": {
   "codemirror_mode": {
    "name": "ipython",
    "version": 3
   },
   "file_extension": ".py",
   "mimetype": "text/x-python",
   "name": "python",
   "nbconvert_exporter": "python",
   "pygments_lexer": "ipython3",
   "version": "3.9.5"
  }
 },
 "nbformat": 4,
 "nbformat_minor": 5
}
