{
 "cells": [
  {
   "cell_type": "code",
   "execution_count": 30,
   "id": "6094f063",
   "metadata": {},
   "outputs": [],
   "source": [
    "import random"
   ]
  },
  {
   "cell_type": "markdown",
   "id": "ffe0d1eb",
   "metadata": {},
   "source": [
    "Código basado en: https://www.geeksforgeeks.org/primality-test-set-3-miller-rabin/"
   ]
  },
  {
   "cell_type": "code",
   "execution_count": 31,
   "id": "b003a622",
   "metadata": {},
   "outputs": [],
   "source": [
    "def exp_mod (a: int , b: int , n: int ) -> int :\n",
    "     \n",
    "    # Initialize result\n",
    "    res = 1;\n",
    "     \n",
    "    # Update x if it is more than or\n",
    "    # equal to p\n",
    "    a = a % n;\n",
    "    while (b > 0):\n",
    "         \n",
    "        # If y is odd, multiply\n",
    "        # x with result\n",
    "        if (b & 1):\n",
    "            res = (res * a) % n;\n",
    " \n",
    "        # y must be even now\n",
    "        b = b>>1; # y = y/2\n",
    "        a = (a * a) % n;\n",
    "     \n",
    "    return res;\n"
   ]
  },
  {
   "cell_type": "code",
   "execution_count": 32,
   "id": "d8282bee",
   "metadata": {},
   "outputs": [],
   "source": [
    "def miller_rabin_test(d: int, n: int) -> bool:\n",
    "    a = 2 + random.randint(1, n - 4);\n",
    "    x = exp_mod(a, d, n);\n",
    "    if (x == 1 or x == n - 1):\n",
    "        return True;  \n",
    "    while (d != n - 1):\n",
    "        x = (x * x) % n;\n",
    "        d *= 2;\n",
    "        if (x == 1):\n",
    "            return False;\n",
    "        if (x == n - 1):\n",
    "            return True;\n",
    "    return False;\n",
    "\n",
    "def miller_rabin (n: int , k: int ) -> bool :\n",
    "    if (n <= 1 or n == 4):\n",
    "        return False;\n",
    "    if (n <= 3):\n",
    "        return True;\n",
    "\n",
    "    d = n - 1;\n",
    "    while (d % 2 == 0):\n",
    "        d //= 2;\n",
    "    for i in range(k):\n",
    "        if (miller_rabin_test(d, n) == False):\n",
    "            return False;\n",
    " \n",
    "    return True;\n",
    "    \n",
    "    \n"
   ]
  },
  {
   "cell_type": "markdown",
   "id": "c1de1b64",
   "metadata": {},
   "source": [
    "código basado en: https://www.geeksforgeeks.org/how-to-generate-large-prime-numbers-for-rsa-algorithm/"
   ]
  },
  {
   "cell_type": "code",
   "execution_count": 33,
   "id": "1de18950",
   "metadata": {},
   "outputs": [],
   "source": [
    "# Pre generated primes\n",
    "first_primes_list = [2, 3, 5, 7, 11, 13, 17, 19, 23, 29,\n",
    "                     31, 37, 41, 43, 47, 53, 59, 61, 67, \n",
    "                     71, 73, 79, 83, 89, 97, 101, 103, \n",
    "                     107, 109, 113, 127, 131, 137, 139, \n",
    "                     149, 151, 157, 163, 167, 173, 179, \n",
    "                     181, 191, 193, 197, 199, 211, 223,\n",
    "                     227, 229, 233, 239, 241, 251, 257,\n",
    "                     263, 269, 271, 277, 281, 283, 293,\n",
    "                     307, 311, 313, 317, 331, 337, 347, 349]"
   ]
  },
  {
   "cell_type": "code",
   "execution_count": 70,
   "id": "dce699b2",
   "metadata": {},
   "outputs": [],
   "source": [
    "def nDigitRandom(l):\n",
    "  \n",
    "    # Returns a random number\n",
    "    # between 2**(n-1)+1 and 2**n-1'''\n",
    "    return(random.randrange(10**(l-1) + 1, 10**(l) - 1))"
   ]
  },
  {
   "cell_type": "code",
   "execution_count": 71,
   "id": "8ebae89c",
   "metadata": {},
   "outputs": [],
   "source": [
    "def getLowLevelPrime(n):\n",
    "    '''Generate a prime candidate divisible\n",
    "      by first primes'''\n",
    "  \n",
    "    # Repeat until a number satisfying\n",
    "    # the test isn't found\n",
    "    while True: \n",
    "  \n",
    "        # Obtain a random number\n",
    "        prime_candidate = nDigitRandom(n) \n",
    "  \n",
    "        for divisor in first_primes_list: \n",
    "            if prime_candidate % divisor == 0 and divisor**2 <= prime_candidate:\n",
    "                break\n",
    "            # If no divisor found, return value\n",
    "            else: return prime_candidate "
   ]
  },
  {
   "cell_type": "markdown",
   "id": "0dfc9807",
   "metadata": {},
   "source": [
    "Código basado en: https://medium.com/@prudywsh/how-to-generate-big-prime-numbers-miller-rabin-49e6e6af32fb"
   ]
  },
  {
   "cell_type": "code",
   "execution_count": 62,
   "id": "31424e4b",
   "metadata": {},
   "outputs": [],
   "source": [
    "def generar_primo (l: int ) -> int :\n",
    "    \n",
    "    p = getLowLevelPrime(l)\n",
    "    while not miller_rabin(p, 100):\n",
    "        p = getLowLevelPrime(l)\n",
    "    return p"
   ]
  },
  {
   "cell_type": "markdown",
   "id": "74c9e26f",
   "metadata": {},
   "source": [
    "Código basado en: https://www.geeksforgeeks.org/python-program-for-basic-and-extended-euclidean-algorithms-2/"
   ]
  },
  {
   "cell_type": "code",
   "execution_count": 15,
   "id": "9ebfbe23",
   "metadata": {},
   "outputs": [],
   "source": [
    "def alg_ext_euclides (a: int , b: int ) -> (int , int , int ):\n",
    "    if a == 0 :  \n",
    "        return b,0,1\n",
    "             \n",
    "    gcd, x1, y1 = alg_ext_euclides(b%a, a) \n",
    "     \n",
    "    # Update x and y using results of recursive \n",
    "    # call \n",
    "    x = y1 - (b//a) * x1 \n",
    "    y = x1 \n",
    "     \n",
    "    return gcd, x, y"
   ]
  },
  {
   "cell_type": "code",
   "execution_count": 16,
   "id": "4bfb9a87",
   "metadata": {},
   "outputs": [],
   "source": [
    "def inverso (a: int , n: int ) -> int :\n",
    "    gcd, s, _=alg_ext_euclides(a,n)\n",
    "    if(gcd != 1):\n",
    "        return None\n",
    "    else:\n",
    "        return s % n"
   ]
  },
  {
   "cell_type": "markdown",
   "id": "b6137e5c",
   "metadata": {},
   "source": [
    "Código basado en:https://sites.psu.edu/gottiparthyanirudh/writing-sample-3/"
   ]
  },
  {
   "cell_type": "code",
   "execution_count": 17,
   "id": "aa31eda4",
   "metadata": {},
   "outputs": [],
   "source": [
    "def generar_clave (l: int ):\n",
    "    p = generar_primo(l)\n",
    "    q = generar_primo(l)\n",
    "    while p == q:\n",
    "        q = generar_primo(l)\n",
    "    n = p*q\n",
    "    phi = (p - 1) * (q - 1)\n",
    "    while True:\n",
    "        i = random.randint(10**(l), 10**(l+1))\n",
    "        mcg, a, b = alg_ext_euclides(i,phi)\n",
    "        if(mcg == 1):\n",
    "            e = i\n",
    "            break\n",
    "    d = inverso(e, phi)\n",
    "    with open(\"private_key.txt\", \"w\") as f:\n",
    "        f.write(str(d))\n",
    "        f.write('\\n')\n",
    "        f.write(str(n))\n",
    "        \n",
    "    with open(\"public_key.txt\", \"w\") as f:\n",
    "        f.write(str(e))\n",
    "        f.write('\\n')\n",
    "        f.write(str(n))"
   ]
  },
  {
   "cell_type": "code",
   "execution_count": 18,
   "id": "5e6733cf",
   "metadata": {},
   "outputs": [],
   "source": [
    "def enc (m: int ) -> int :\n",
    "    with open(\"public_key.txt\", \"r\") as f:\n",
    "        lines = f.readlines()\n",
    "        e = int(lines[0].strip())\n",
    "        n = int(lines[1].strip())\n",
    "    c=exp_mod(m, e, n)\n",
    "    return c"
   ]
  },
  {
   "cell_type": "code",
   "execution_count": 19,
   "id": "8688abcb",
   "metadata": {},
   "outputs": [],
   "source": [
    "def dec (m: int ) -> int :\n",
    "    with open(\"private_key.txt\") as f:\n",
    "        lines = f.readlines()\n",
    "        d = int(lines[0].strip())\n",
    "        n = int(lines[1].strip())\n",
    "    result = exp_mod(m, d, n)\n",
    "    return result"
   ]
  }
 ],
 "metadata": {
  "kernelspec": {
   "display_name": "Python 3",
   "language": "python",
   "name": "python3"
  },
  "language_info": {
   "codemirror_mode": {
    "name": "ipython",
    "version": 3
   },
   "file_extension": ".py",
   "mimetype": "text/x-python",
   "name": "python",
   "nbconvert_exporter": "python",
   "pygments_lexer": "ipython3",
   "version": "3.9.5"
  }
 },
 "nbformat": 4,
 "nbformat_minor": 5
}
