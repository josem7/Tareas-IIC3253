{
 "cells": [
  {
   "cell_type": "code",
   "execution_count": 202,
   "id": "6094f063",
   "metadata": {},
   "outputs": [],
   "source": [
    "import random"
   ]
  },
  {
   "cell_type": "code",
   "execution_count": 203,
   "id": "b003a622",
   "metadata": {},
   "outputs": [],
   "source": [
    "def exp_mod (a: int , b: int , n: int ) -> int :\n",
    "     \n",
    "    # Initialize result\n",
    "    res = 1;\n",
    "     \n",
    "    # Update x if it is more than or\n",
    "    # equal to p\n",
    "    a = a % n;\n",
    "    while (b > 0):\n",
    "         \n",
    "        # If y is odd, multiply\n",
    "        # x with result\n",
    "        if (b & 1):\n",
    "            res = (res * a) % n;\n",
    " \n",
    "        # y must be even now\n",
    "        b = b>>1; # y = y/2\n",
    "        a = (a * a) % n;\n",
    "     \n",
    "    return res;\n"
   ]
  },
  {
   "cell_type": "code",
   "execution_count": 204,
   "id": "d8282bee",
   "metadata": {},
   "outputs": [],
   "source": [
    "def miller_rabin_test(d: int, n: int) -> bool:\n",
    "    a = 2 + random.randint(1, n - 4);\n",
    "    x = exp_mod(a, d, n);\n",
    "    if (x == 1 or x == n - 1):\n",
    "        return True;  \n",
    "    while (d != n - 1):\n",
    "        x = (x * x) % n;\n",
    "        d *= 2;\n",
    "        if (x == 1):\n",
    "            return False;\n",
    "        if (x == n - 1):\n",
    "            return True;\n",
    "    return False;\n",
    "\n",
    "def miller_rabin (n: int , k: int ) -> bool :\n",
    "    if (n <= 1 or n == 4):\n",
    "        return False;\n",
    "    if (n <= 3):\n",
    "        return True;\n",
    "\n",
    "    d = n - 1;\n",
    "    while (d % 2 == 0):\n",
    "        d //= 2;\n",
    "    for i in range(k):\n",
    "        if (miller_rabin_test(d, n) == False):\n",
    "            return False;\n",
    " \n",
    "    return True;\n",
    "    \n",
    "    \n"
   ]
  },
  {
   "cell_type": "code",
   "execution_count": 205,
   "id": "c89c2fe6",
   "metadata": {},
   "outputs": [],
   "source": [
    "def generate_prime_candidate(length):\n",
    "    \"\"\" Generate an odd integer randomly\n",
    "        Args:\n",
    "            length -- int -- the length of the number to generate, in bits\n",
    "        return a integer\n",
    "    \"\"\"\n",
    "    # generate random bits\n",
    "    p = getrandbits(length)\n",
    "    # apply a mask to set MSB and LSB to 1\n",
    "    p |= (1 << length - 1) | 1\n",
    "    return p"
   ]
  },
  {
   "cell_type": "code",
   "execution_count": 206,
   "id": "31424e4b",
   "metadata": {},
   "outputs": [],
   "source": [
    "def generar_primo (l: int ) -> int :\n",
    "    \n",
    "    p = random.randrange(10**l, 10**(l+1), 2)\n",
    "    while not miller_rabin(p, 100):\n",
    "        p = random.randint(10**(l-1), 10**(l))\n",
    "        if (p % 2) == 0:\n",
    "            p += 1\n",
    "        \n",
    "    return p"
   ]
  },
  {
   "cell_type": "code",
   "execution_count": 207,
   "id": "fa6056a0",
   "metadata": {},
   "outputs": [],
   "source": [
    "def alg_ext_euclides (a: int , b: int ) -> (int , int , int ):\n",
    "    if a == 0 :  \n",
    "        return b,0,1\n",
    "             \n",
    "    gcd, x1, y1 = alg_ext_euclides(b%a, a) \n",
    "     \n",
    "    # Update x and y using results of recursive \n",
    "    # call \n",
    "    x = y1 - (b//a) * x1 \n",
    "    y = x1 \n",
    "     \n",
    "    return gcd, x, y"
   ]
  },
  {
   "cell_type": "code",
   "execution_count": 208,
   "id": "3a87ecb2",
   "metadata": {},
   "outputs": [],
   "source": [
    "def inverso (a: int , n: int ) -> int :\n",
    "    gcd, s, _=alg_ext_euclides(a,n)\n",
    "    if(gcd != 1):\n",
    "        return None\n",
    "    else:\n",
    "        return s % n"
   ]
  },
  {
   "cell_type": "code",
   "execution_count": 209,
   "id": "7a8ad59b",
   "metadata": {},
   "outputs": [],
   "source": [
    "def generar_clave (l: int ):\n",
    "    p = generar_primo(l)\n",
    "    q = generar_primo(l)\n",
    "    while p == q:\n",
    "        q = generar_primo(l)\n",
    "    n = p*q\n",
    "    phi = (p - 1) * (q - 1)\n",
    "    while True:\n",
    "        i = random.randint(10**(l), 10**(l+1))\n",
    "        mcg, a, b = alg_ext_euclides(i,phi)\n",
    "        if(mcg == 1):\n",
    "            e = i\n",
    "            break\n",
    "    d = inverso(e, phi)\n",
    "    with open(\"private_key.txt\", \"w\") as f:\n",
    "        f.write(str(d))\n",
    "        f.write('\\n')\n",
    "        f.write(str(n))\n",
    "        \n",
    "    with open(\"public_key.txt\", \"w\") as f:\n",
    "        f.write(str(e))\n",
    "        f.write('\\n')\n",
    "        f.write(str(n))"
   ]
  },
  {
   "cell_type": "code",
   "execution_count": 210,
   "id": "6bcdd633",
   "metadata": {},
   "outputs": [],
   "source": [
    "def enc (m: int ) -> int :\n",
    "    with open(\"public_key.txt\", \"r\") as f:\n",
    "        lines = f.readlines()\n",
    "        e = int(lines[0].strip())\n",
    "        n = int(lines[1].strip())\n",
    "    c=exp_mod(m, e, n)\n",
    "    return c"
   ]
  },
  {
   "cell_type": "code",
   "execution_count": 211,
   "id": "3d738a60",
   "metadata": {},
   "outputs": [],
   "source": [
    "def dec (m: int ) -> int :\n",
    "    with open(\"private_key.txt\") as f:\n",
    "        lines = f.readlines()\n",
    "        d = int(lines[0].strip())\n",
    "        n = int(lines[1].strip())\n",
    "    result = exp_mod(m, d, n)\n",
    "    return result"
   ]
  }
 ],
 "metadata": {
  "kernelspec": {
   "display_name": "Python 3",
   "language": "python",
   "name": "python3"
  },
  "language_info": {
   "codemirror_mode": {
    "name": "ipython",
    "version": 3
   },
   "file_extension": ".py",
   "mimetype": "text/x-python",
   "name": "python",
   "nbconvert_exporter": "python",
   "pygments_lexer": "ipython3",
   "version": "3.9.5"
  }
 },
 "nbformat": 4,
 "nbformat_minor": 5
}
