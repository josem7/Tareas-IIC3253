{
 "cells": [
  {
   "cell_type": "markdown",
   "metadata": {},
   "source": [
    "## Pregunta 2\n",
    "código basado en:\n",
    "\n",
    "https://en.wikipedia.org/wiki/MD5\n",
    "\n",
    "https://github.com/timvandermeij/md5.py/blob/master/md5.py\n",
    "\n",
    "https://www.ietf.org/rfc/rfc1321.txt\n",
    "\n",
    "Primero definimos 3 funciones que nos serán útil\n",
    "\n",
    "#### leftrotate: \n",
    "Esta es una función que rota a la izquierda similar a la definida en el pseudo código de Wikipedia.\n",
    "#### generate_s: \n",
    "Esta función genera la lista s que define cuanto se rota cada turno.\n",
    "#### generate_k:\n",
    "Esta función genera la lista k.\n",
    "\n",
    "### función principal:\n",
    "Primero decomponemos el h0 en a0, b0, c0, d0.\n",
    "\n",
    "Luego, generamos un bit array en little endian y pasamos el mensaje de UTF-8 a bits, calculamos el largo original del mensaje (se usará más tarde) y agregamos 1 al final de este (1 en byte). Luego, se agregan 0s hasta que el largo mod 512 sea 448. Esto es que está a 64 bits de ser divisible por 512. Por último, le agregamos el largo original del mensaje en little endian y de largo 64 bits. Esto deja al mensaje divisible en 512.\n",
    "\n",
    "Generamos el k y el s que se utilizarán en el loop. Dividimos el mensaje en trozos de 512 bits como vimos anteriormente el mensaje siempre será divisible por 512. Lo siguiente se corre para cada trozo de 512 bits.\n",
    "\n",
    "generamos las variables auxiliares:\n",
    "\n",
    "A = a0\n",
    "\n",
    "B = b0\n",
    "\n",
    "C = c0\n",
    "\n",
    "D = d0\n",
    "\n",
    "Estos trozos luego los dividimos en 16 bloques de 32 bits. Definimos 4 funciones que son:\n",
    "\n",
    "F = (B & C) | ((~ B) & D)\n",
    "\n",
    "F = (D & B) | ((~ D) & C)\n",
    "\n",
    "F = B ^ C ^ D\n",
    "\n",
    "F = C ^ (B | (~ D))\n",
    "\n",
    "corremos un loop 64 veces cada 16 veces corre una función distinta y define un g distinto. \n",
    "\n",
    "##### 0-15:\n",
    "F = (B & C) | ((~ B) & D)\n",
    "\n",
    "g = i\n",
    "\n",
    "##### 16-31:\n",
    "F = (D & B) | ((~ D) & C)\n",
    "\n",
    "g = (5*i + 1) % 16\n",
    "\n",
    "##### 32-47:\n",
    "F = B ^ C ^ D\n",
    "\n",
    "g = (3*i + 5) % 16\n",
    "\n",
    "##### 48-63:\n",
    "F = C ^ (B | (~ D))\n",
    "\n",
    "g = (7*i) % 16\n",
    "\n",
    "##### MD5 define a como:\n",
    "\n",
    "A = B + ((A + F + M[g] + K[i]) <<< s)\n",
    "\n",
    "Esto es lo mismo que como el pseudo código de Wikipedia lo define, notar que el F cambia dependiendo de la iteración que estemos en el loop:\n",
    "\n",
    "##### Definimos F como:\n",
    "F = (F + A + K[i] + M[g]) % pow(2, 32)\n",
    "##### y A como:\n",
    "(B + leftrotate(F, s[i])) % pow(2, 32)\n",
    "\n",
    "##### Solamente que MD5 rota A, B, C, D, esto es, B = A, C = B, D = C, A = D por lo que podemos definir directamente B como:\n",
    "B = (B + leftrotate(F, s[i])) % pow(2, 32)\n",
    "\n",
    "\n",
    "A = D\n",
    "\n",
    "D = C\n",
    "\n",
    "C = B\n",
    "\n",
    "B = (B + leftrotate(F, s[i])) % pow(2, 32)\n",
    "\n",
    "\n",
    "Al salir del loop sumamos estos nuevos valores de A, B, C, D a los originales a0, b0, c0, d0 y los guardamos en a0, b0, c0 y d0 respectivamente. \n",
    "\n",
    "a0 = (a0 + A) % pow(2, 32)\n",
    "\n",
    "b0 = (b0 + B) % pow(2, 32)\n",
    "\n",
    "c0 = (c0 + C) % pow(2, 32)\n",
    "\n",
    "d0 = (d0 + D) % pow(2, 32)\n",
    "\n",
    "Por último, pasamos el a0, b0, d0, c0 a little endian y entregamos el output como se pide .\n",
    "\n",
    "##### Nota:\n",
    "- para las sumas usamos mod(pow(2, 32)) para que estas no se pasen de los 32 bits.\n",
    "- El h0 que define los párametros originales de MD5 es: 137269462086865085541390238039692956790"
   ]
  },
  {
   "cell_type": "code",
   "execution_count": 4,
   "metadata": {},
   "outputs": [],
   "source": [
    "from bitarray import bitarray\n",
    "from bitarray.util import int2ba\n",
    "from math import sin, floor\n",
    "import struct\n",
    "\n",
    "def leftrotate (x, c):\n",
    "    return (x << c) | (x >> (32-c));\n",
    "\n",
    "def generate_k():\n",
    "    k = []\n",
    "    for i in range(64):\n",
    "        k.append(floor(pow(2, 32) * abs(sin(i + 1))))\n",
    "    return k\n",
    "\n",
    "def generate_s():\n",
    "    s = [7, 12, 17, 22] * 4\n",
    "    s += [5,  9, 14, 20] * 4\n",
    "    s += [4, 11, 16, 23] * 4\n",
    "    s += [6, 10, 15, 21] * 4\n",
    "    return s\n",
    "'''\n",
    "Argumentos :\n",
    "m : str - mensaje\n",
    "h0 : int - constante inicial H_0\n",
    "\n",
    "Retorna :\n",
    "str - hash MD5 correcto del mensaje en formato hexadecimal\n",
    "'''  \n",
    "def custom_md5 ( m : str , h0 : int ) -> str :\n",
    "\n",
    "    \n",
    "    d1 = h0 & 0xffffffff\n",
    "    c1 = (h0 >> 32) & 0xffffffff\n",
    "    b1 = (h0 >> 64) & 0xffffffff\n",
    "    a1 = (h0 >> 96) & 0xffffffff\n",
    "    \n",
    "    a0 = (h0 // (2 ** (32 * 3)))\n",
    "    b0 = (h0 // (2 ** (32 * 2))) % (2 ** 32)\n",
    "    c0 = (h0 // (2 ** (32 * 1))) % (2 ** 32)\n",
    "    d0 = h0 % (2 ** 32)\n",
    "    \n",
    "    my_bit_array = bitarray(endian=\"little\")\n",
    "    my_bit_array.frombytes(m.encode('utf-8'))\n",
    "    length_bits = len(my_bit_array) %  pow(2, 64)\n",
    "    my_bit_array.append(0)\n",
    "    my_bit_array.append(0)\n",
    "    my_bit_array.append(0)\n",
    "    my_bit_array.append(0)\n",
    "    my_bit_array.append(0)\n",
    "    my_bit_array.append(0)\n",
    "    my_bit_array.append(0)\n",
    "    my_bit_array.append(1)\n",
    "    while len(my_bit_array) % 512 != 448:\n",
    "        my_bit_array.append(0)\n",
    "    \n",
    "    length_bits_array = bitarray(endian=\"little\")\n",
    "    length_bits_array.frombytes(struct.pack('<Q', length_bits))\n",
    "    my_bit_array.extend(length_bits_array)\n",
    "    \n",
    "    K = generate_k()\n",
    "    s = generate_s()\n",
    "    for chunk in range(len(my_bit_array) // 512 ):\n",
    "        M_bit = []\n",
    "        for j in range(16):\n",
    "            M_bit.append(my_bit_array[chunk * 512 + j * 32: chunk * 512 + (j + 1)* 32 ])\n",
    "        M = []\n",
    "        for word in M_bit:\n",
    "            M.append(struct.unpack(\"<L\", word)[0])\n",
    "        A = a0\n",
    "        B = b0\n",
    "        C = c0\n",
    "        D = d0\n",
    "        for i in range(64):\n",
    "            if (0 <= i <= 15):\n",
    "                F = (B & C) | ((~ B) & D)\n",
    "                g = i\n",
    "            elif 16 <= i <= 31:\n",
    "                F = (D & B) | ((~ D) & C)\n",
    "                g = (5*i + 1) % 16\n",
    "            elif 32 <= i <= 47:\n",
    "                F = B ^ C ^ D\n",
    "                g = (3*i + 5) % 16\n",
    "            elif 48 <= i <= 63:\n",
    "                F = C ^ (B | (~ D))\n",
    "                g = (7*i) % 16\n",
    "            F = (F + A + K[i] + M[g]) % pow(2, 32)\n",
    "            A = D\n",
    "            D = C\n",
    "            C = B\n",
    "            B = (B + leftrotate(F, s[i])) % pow(2, 32)\n",
    "        a0 = (a0 + A) % pow(2, 32)\n",
    "        b0 = (b0 + B) % pow(2, 32)\n",
    "        c0 = (c0 + C) % pow(2, 32)\n",
    "        d0 = (d0 + D) % pow(2, 32)\n",
    "        \n",
    "    a0 = struct.unpack(\"<I\", struct.pack(\">I\", a0))[0]\n",
    "    b0 = struct.unpack(\"<I\", struct.pack(\">I\", b0))[0]\n",
    "    c0 = struct.unpack(\"<I\", struct.pack(\">I\", c0))[0]\n",
    "    d0 = struct.unpack(\"<I\", struct.pack(\">I\", d0))[0]\n",
    "    \n",
    "    return f\"{format(a0, '08x')}{format(b0, '08x')}{format(c0, '08x')}{format(d0, '08x')}\"\n",
    "    "
   ]
  },
  {
   "cell_type": "code",
   "execution_count": 5,
   "metadata": {},
   "outputs": [
    {
     "name": "stdout",
     "output_type": "stream",
     "text": [
      "1732584193\n",
      "4023233417\n"
     ]
    },
    {
     "data": {
      "text/plain": [
       "'9e107d9d372bb6826bd81d3542a419d6'"
      ]
     },
     "execution_count": 5,
     "metadata": {},
     "output_type": "execute_result"
    }
   ],
   "source": [
    "custom_md5(\"The quick brown fox jumps over the lazy dog\", 137269462086865085541390238039692956790)"
   ]
  },
  {
   "cell_type": "code",
   "execution_count": 71,
   "metadata": {},
   "outputs": [
    {
     "name": "stdout",
     "output_type": "stream",
     "text": [
      "9e107d9d372bb6826bd81d3542a419d6\n"
     ]
    }
   ],
   "source": [
    "import hashlib\n",
    "print(hashlib.md5(\"The quick brown fox jumps over the lazy dog\".encode('utf-8')).hexdigest())"
   ]
  },
  {
   "cell_type": "code",
   "execution_count": 7,
   "metadata": {},
   "outputs": [
    {
     "name": "stdout",
     "output_type": "stream",
     "text": [
      "0\n",
      "0\n"
     ]
    },
    {
     "data": {
      "text/plain": [
       "'fbc3e9baf08747036bd6067495f9381c'"
      ]
     },
     "execution_count": 7,
     "metadata": {},
     "output_type": "execute_result"
    }
   ],
   "source": [
    "custom_md5(\"jndominguez@uc.cl\", 17637449 * 100 + 0 )"
   ]
  },
  {
   "cell_type": "code",
   "execution_count": null,
   "metadata": {},
   "outputs": [],
   "source": [
    "fbc3e9baf08747036bd6067495f9381c"
   ]
  }
 ],
 "metadata": {
  "kernelspec": {
   "display_name": "Python 3",
   "language": "python",
   "name": "python3"
  },
  "language_info": {
   "codemirror_mode": {
    "name": "ipython",
    "version": 3
   },
   "file_extension": ".py",
   "mimetype": "text/x-python",
   "name": "python",
   "nbconvert_exporter": "python",
   "pygments_lexer": "ipython3",
   "version": "3.7.5"
  }
 },
 "nbformat": 4,
 "nbformat_minor": 4
}
